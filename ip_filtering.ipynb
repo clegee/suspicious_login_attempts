{
 "cells": [
  {
   "cell_type": "code",
   "execution_count": 1,
   "id": "8a3949a6-6b43-425d-b58c-917e7cb3e31a",
   "metadata": {},
   "outputs": [
    {
     "name": "stdout",
     "output_type": "stream",
     "text": [
      "Original list of IPs: ['192.168.1.1', '192.168.1.2', '192.168.1.1', '192.168.1.5', '192.168.1.2', '172.189.2.2', '192.162.5.2', '192.162.5.5', '192.162.5.2', '192.162.1.1', '78.89.52.3', '10.0.1.1', '10.1.1.1', '192.168.1.1', '192.168.1.5', '192.162.5.5', '192.162.5.5', '192.162.5.5', '78.89.52.3', '78.89.52.3', '78.89.52.3']\n",
      "Login attempts from the following addresses are suspicious:\n",
      "192.168.1.1: 3 attempts\n",
      "192.168.1.2: 2 attempts\n",
      "192.168.1.5: 2 attempts\n",
      "192.162.5.2: 2 attempts\n",
      "192.162.5.5: 4 attempts\n",
      "78.89.52.3: 4 attempts\n"
     ]
    }
   ],
   "source": [
    "import pandas as pd\n",
    "from collections import Counter\n",
    "\n",
    "# Read the CSV file containing log data of login attempts\n",
    "# Ensure the CSV has a column named \"ip_addresses\" or update accordingly\n",
    "ip_list = pd.read_csv(r\"C:\\Users\\Clegee\\myproject\\ip-addresses.csv\")\n",
    "\n",
    "# Convert the dataframe column to a list by passing the column containing the ip addresses\n",
    "add_list = ip_list['ip_addresses'].tolist()  \n",
    "print(\"Original list of IPs:\", add_list)\n",
    "\n",
    "# Count occurrences of each IP address\n",
    "counts = Counter(add_list)\n",
    "\n",
    "# Filter IPs that appear more than once\n",
    "filtered_ip = {ip: count for ip, count in counts.items() if count > 1}\n",
    "\n",
    "# Print suspicious login attempts\n",
    "print(\"Login attempts from the following addresses are suspicious:\")\n",
    "for ip, count in filtered_ip.items():\n",
    "    print(f\"{ip}: {count} attempts\")"
   ]
  },
  {
   "cell_type": "code",
   "execution_count": null,
   "id": "565689d8-0be6-49d0-9bd5-7bb0b9161b13",
   "metadata": {},
   "outputs": [],
   "source": []
  }
 ],
 "metadata": {
  "kernelspec": {
   "display_name": "Python 3 (ipykernel)",
   "language": "python",
   "name": "python3"
  },
  "language_info": {
   "codemirror_mode": {
    "name": "ipython",
    "version": 3
   },
   "file_extension": ".py",
   "mimetype": "text/x-python",
   "name": "python",
   "nbconvert_exporter": "python",
   "pygments_lexer": "ipython3",
   "version": "3.12.7"
  }
 },
 "nbformat": 4,
 "nbformat_minor": 5
}
